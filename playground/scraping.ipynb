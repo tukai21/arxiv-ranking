{
 "cells": [
  {
   "cell_type": "code",
   "execution_count": 59,
   "metadata": {},
   "outputs": [],
   "source": [
    "import numpy as np\n",
    "import requests\n",
    "from bs4 import BeautifulSoup"
   ]
  },
  {
   "cell_type": "markdown",
   "metadata": {},
   "source": [
    "## Scirate"
   ]
  },
  {
   "cell_type": "markdown",
   "metadata": {},
   "source": [
    "### Obtain paper list from a single page (for one day)"
   ]
  },
  {
   "cell_type": "code",
   "execution_count": 87,
   "metadata": {},
   "outputs": [],
   "source": [
    "def get_papers_scirate(url='https://scirate.com/arxiv/quant-ph?date=2018-04-11&range=1'):\n",
    "    response = requests.get(url)\n",
    "    soup = BeautifulSoup(response.text, 'lxml')\n",
    "    paper_list = soup.find_all('li', class_='paper tex2jax')\n",
    "    \n",
    "    papers = []\n",
    "    for i, paper in enumerate(paper_list):\n",
    "        title = paper.find('div', class_='title').text\n",
    "        author_list = paper.find('div', class_='authors').text.split(', ')\n",
    "        authors = []\n",
    "        for author in author_list:\n",
    "            authors.append(author.strip())\n",
    "        paper_info = {\n",
    "            'title': title,\n",
    "            'authors': authors,\n",
    "            'rank': i\n",
    "        }\n",
    "        papers.append(paper_info)\n",
    "    \n",
    "    return papers"
   ]
  },
  {
   "cell_type": "code",
   "execution_count": 96,
   "metadata": {},
   "outputs": [],
   "source": [
    "papers_scirate = get_papers_scirate()"
   ]
  },
  {
   "cell_type": "code",
   "execution_count": 97,
   "metadata": {},
   "outputs": [
    {
     "name": "stdout",
     "output_type": "stream",
     "text": [
      "The number of papers:  25\n",
      "The first paper title:  Strawberry Fields: A Software Platform for Photonic Quantum Computing\n",
      "The first paper authors:  ['Nathan Killoran', 'Josh Izaac', 'Nicolás Quesada', 'Ville Bergholm', 'Matthew Amy', 'Christian Weedbrook']\n",
      "The first paper rank:  0\n"
     ]
    }
   ],
   "source": [
    "print('The number of papers: ', len(papers_scirate))\n",
    "print('The first paper title: ', papers_scirate[0]['title'])\n",
    "print('The first paper authors: ', papers_scirate[0]['authors'])\n",
    "print('The first paper rank: ', papers_scirate[0]['rank'])"
   ]
  },
  {
   "cell_type": "code",
   "execution_count": null,
   "metadata": {},
   "outputs": [],
   "source": []
  },
  {
   "cell_type": "markdown",
   "metadata": {},
   "source": [
    "## Arxiv"
   ]
  },
  {
   "cell_type": "markdown",
   "metadata": {},
   "source": [
    "### Obtain paper list from a single page (for one day)"
   ]
  },
  {
   "cell_type": "code",
   "execution_count": 99,
   "metadata": {},
   "outputs": [],
   "source": [
    "def get_papers_arxiv(url_start='https://arxiv.org/catchup?action=/catchup'):\n",
    "    form_info = {\n",
    "        'archive': 'quant-ph',\n",
    "        'sday': '11',\n",
    "        'smonth': '04',\n",
    "        'syear': '2018',\n",
    "        'method': 'without'\n",
    "    }\n",
    "    response = requests.post(url_start, form_info)\n",
    "    \n",
    "    soup = BeautifulSoup(response.text, 'lxml')\n",
    "    paper_list = soup.find_all('dd')\n",
    "    meta_list = soup.find_all('dt')\n",
    "    \n",
    "    papers = []\n",
    "    for i, (paper, meta) in enumerate(zip(paper_list, meta_list)):\n",
    "        meta_info = meta.find('span', class_='list-identifier')\n",
    "        if 'replaced' in meta_info.text or 'cross-list' in meta_info.text:\n",
    "            continue\n",
    "\n",
    "        title = paper.find('div', class_='list-title mathjax').text.split('\\nTitle: ')[1].split('\\n')[0]\n",
    "        author_list = np.array(paper.find('div', class_='list-authors').text.split('\\n'))[2:-1]\n",
    "        authors = []\n",
    "        for author in author_list:\n",
    "            authors.append(author.split(',')[0])\n",
    "        paper_info = {\n",
    "            'title': title,\n",
    "            'authors': authors,\n",
    "            'order': i\n",
    "        }\n",
    "        papers.append(paper_info)\n",
    "    \n",
    "    return papers"
   ]
  },
  {
   "cell_type": "code",
   "execution_count": 100,
   "metadata": {},
   "outputs": [],
   "source": [
    "papers_arxiv = get_papers_arxiv()"
   ]
  },
  {
   "cell_type": "code",
   "execution_count": 101,
   "metadata": {},
   "outputs": [
    {
     "name": "stdout",
     "output_type": "stream",
     "text": [
      "The number of papers:  25\n",
      "The first paper title:  Strawberry Fields: A Software Platform for Photonic Quantum Computing\n",
      "The first paper authors:  ['Nathan Killoran', 'Josh Izaac', 'Nicolás Quesada', 'Ville Bergholm', 'Matthew Amy', 'Christian Weedbrook']\n",
      "The first paper order:  0\n"
     ]
    }
   ],
   "source": [
    "print('The number of papers: ', len(papers_arxiv))\n",
    "print('The first paper title: ', papers_arxiv[0]['title'])\n",
    "print('The first paper authors: ', papers_arxiv[0]['authors'])\n",
    "print('The first paper order: ', papers_arxiv[0]['order'])"
   ]
  },
  {
   "cell_type": "code",
   "execution_count": 102,
   "metadata": {},
   "outputs": [],
   "source": [
    "# Query papers for a specific period\n",
    "# TODO: automatic form_info formation and request\n",
    "\n",
    "url = 'https://arxiv.org/catchup?action=/catchup'\n",
    "form_info = {\n",
    "    'archive': 'quant-ph',\n",
    "    'sday': '11',\n",
    "    'smonth': '04',\n",
    "    'syear': '2018',\n",
    "    'method': 'without'\n",
    "}\n",
    "response = requests.post(url, form_info)"
   ]
  },
  {
   "cell_type": "code",
   "execution_count": 38,
   "metadata": {},
   "outputs": [],
   "source": [
    "soup = BeautifulSoup(response.text, 'lxml')"
   ]
  }
 ],
 "metadata": {
  "kernelspec": {
   "display_name": "Python 3",
   "language": "python",
   "name": "python3"
  },
  "language_info": {
   "codemirror_mode": {
    "name": "ipython",
    "version": 3
   },
   "file_extension": ".py",
   "mimetype": "text/x-python",
   "name": "python",
   "nbconvert_exporter": "python",
   "pygments_lexer": "ipython3",
   "version": "3.6.1"
  }
 },
 "nbformat": 4,
 "nbformat_minor": 2
}
