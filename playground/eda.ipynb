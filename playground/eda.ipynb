{
 "cells": [
  {
   "cell_type": "code",
   "execution_count": 36,
   "metadata": {},
   "outputs": [
    {
     "name": "stdout",
     "output_type": "stream",
     "text": [
      "The autoreload extension is already loaded. To reload it, use:\n",
      "  %reload_ext autoreload\n"
     ]
    }
   ],
   "source": [
    "%load_ext autoreload\n",
    "%autoreload 2\n",
    "\n",
    "import sys\n",
    "sys.path.append('..')\n",
    "\n",
    "import numpy as np\n",
    "import pandas as pd\n",
    "from difflib import SequenceMatcher\n",
    "\n",
    "from parsers.arxiv import scrape_arxiv\n",
    "from parsers.scirate import scrape_scirate"
   ]
  },
  {
   "cell_type": "markdown",
   "metadata": {},
   "source": [
    "## Data Acquisition"
   ]
  },
  {
   "cell_type": "code",
   "execution_count": 12,
   "metadata": {},
   "outputs": [],
   "source": [
    "# parameters for crawling: search span, archive type, and method (with or without abstract)\n",
    "params = {'start': {'year': 2018, 'month': 3, 'day': 1},\n",
    "          'end': {'year': 2018, 'month': 4, 'day': 1},\n",
    "          'archive': 'quant-ph',\n",
    "          'method': 'without'\n",
    "          }"
   ]
  },
  {
   "cell_type": "code",
   "execution_count": 13,
   "metadata": {},
   "outputs": [],
   "source": [
    "# crawl/scrape Arxiv\n",
    "results_arxiv = scrape_arxiv(params)"
   ]
  },
  {
   "cell_type": "code",
   "execution_count": 14,
   "metadata": {},
   "outputs": [],
   "source": [
    "# crawl/scrape Scirate\n",
    "results_scirate = scrape_scirate(params)"
   ]
  },
  {
   "cell_type": "code",
   "execution_count": 17,
   "metadata": {},
   "outputs": [
    {
     "data": {
      "text/plain": [
       "{'authors': ['Kirill P. Kalinin', 'Natalia G. Berloff'],\n",
       " 'order': 0,\n",
       " 'title': 'Blockchain platform with proof-of-work based on analog Hamiltonian  optimisers'}"
      ]
     },
     "execution_count": 17,
     "metadata": {},
     "output_type": "execute_result"
    }
   ],
   "source": [
    "# 2018-03-01 Arxiv top\n",
    "results_arxiv[0]['papers'][0]"
   ]
  },
  {
   "cell_type": "code",
   "execution_count": 18,
   "metadata": {},
   "outputs": [
    {
     "data": {
      "text/plain": [
       "{'authors': ['M. B. Hastings'],\n",
       " 'rank': 0,\n",
       " 'title': 'A Short Path Quantum Algorithm for Exact Optimization'}"
      ]
     },
     "execution_count": 18,
     "metadata": {},
     "output_type": "execute_result"
    }
   ],
   "source": [
    "# 2018-03-01 Scirate top\n",
    "results_scirate[0]['papers'][0]"
   ]
  },
  {
   "cell_type": "code",
   "execution_count": 19,
   "metadata": {},
   "outputs": [
    {
     "data": {
      "text/plain": [
       "{'authors': ['Beni Yoshida', 'Norman Y. Yao'],\n",
       " 'order': 0,\n",
       " 'title': 'Disentangling Scrambling and Decoherence via Quantum Teleportation'}"
      ]
     },
     "execution_count": 19,
     "metadata": {},
     "output_type": "execute_result"
    }
   ],
   "source": [
    "# 2018-03-30 Arxiv top\n",
    "results_arxiv[-1]['papers'][0]"
   ]
  },
  {
   "cell_type": "code",
   "execution_count": 21,
   "metadata": {},
   "outputs": [
    {
     "data": {
      "text/plain": [
       "{'authors': ['Beni Yoshida', 'Norman Y. Yao'],\n",
       " 'rank': 0,\n",
       " 'title': 'Disentangling Scrambling and Decoherence via Quantum Teleportation'}"
      ]
     },
     "execution_count": 21,
     "metadata": {},
     "output_type": "execute_result"
    }
   ],
   "source": [
    "# 2018-03-30 Scirate top\n",
    "results_scirate[-1]['papers'][0]"
   ]
  },
  {
   "cell_type": "markdown",
   "metadata": {},
   "source": [
    "## EDA"
   ]
  },
  {
   "cell_type": "markdown",
   "metadata": {},
   "source": [
    "Entry ID: paper name (DOI?)\n",
    "We can create an arbitrary paper id that corresponds to each paper title, authors, and DOI.\n",
    "\n",
    "Possible features:\n",
    "\n",
    "- Arxiv order\n",
    "- Scirate order\n",
    "- Paper length (pages)\n",
    "- Title length (words)\n",
    "- Number of authors\n",
    "- Total # of citations of the authors (or first author? last author?)\n",
    "- Bag of Words of title\n",
    "- Bag of Words of abstract"
   ]
  },
  {
   "cell_type": "code",
   "execution_count": 31,
   "metadata": {},
   "outputs": [],
   "source": [
    "# obtain features from both Arxiv and Scirate paper lists\n",
    "\n",
    "index = []\n",
    "title = []\n",
    "authors = []\n",
    "num_authors = []\n",
    "title_length = []\n",
    "arxiv_order = []\n",
    "\n",
    "for res in results_arxiv:\n",
    "    date = res['date']\n",
    "    papers = res['papers']\n",
    "    for paper in papers:\n",
    "        # create arbitrary paper id - currently, it is \"date + Arxiv order\"\n",
    "        if paper['order'] < 10:\n",
    "            idx = '_000' + str(paper['order'])\n",
    "        elif 10 <= paper['order'] < 100:\n",
    "            idx = '_00' + str(paper['order'])\n",
    "        elif 100 <= paper['order'] < 1000:\n",
    "            idx = '_0' + str(paper['order'])\n",
    "        else:\n",
    "            idx = '_' + str(paper['order'])\n",
    "        index.append(date + idx)\n",
    "        \n",
    "        title.append(paper['title'])\n",
    "        authors.append(paper['authors'])\n",
    "        num_authors.append(len(paper['authors']))\n",
    "        title_length.append(len(paper['title']))\n",
    "        arxiv_order.append(paper['order'])\n",
    "        "
   ]
  },
  {
   "cell_type": "code",
   "execution_count": 40,
   "metadata": {},
   "outputs": [],
   "source": [
    "# Scirate rank - string matching to find index of each paper in Arxiv list\n",
    "### This process is pretty slow - needs to be refactored ###\n",
    "\n",
    "scirate_rank = [-1 for _ in range(len(arxiv_order))]\n",
    "\n",
    "for res in results_scirate:\n",
    "    papers = res['papers']\n",
    "    for paper in papers:\n",
    "        title_sci = paper['title']\n",
    "        try:\n",
    "            idx = title.index(title_sci)\n",
    "        except:\n",
    "            # if there is no just match, use difflib SequenceMatcher for title matching\n",
    "            str_match = np.array([SequenceMatcher(a=title_sci, b=title_arx).ratio() for title_arx in title])\n",
    "            idx = np.argmax(str_match)\n",
    "        scirate_rank[idx] = paper['rank']"
   ]
  },
  {
   "cell_type": "code",
   "execution_count": 47,
   "metadata": {},
   "outputs": [],
   "source": [
    "# columns for pandas DataFrame\n",
    "columns = ['title', 'authors', 'num_authors', 'title_length', 'arxiv_order', 'scirate_rank']"
   ]
  },
  {
   "cell_type": "code",
   "execution_count": 74,
   "metadata": {},
   "outputs": [],
   "source": [
    "# this is too dirty...\n",
    "title = np.array(title).reshape(-1, 1)\n",
    "authors = np.array(authors).reshape(-1, 1)\n",
    "num_authors = np.array(num_authors).reshape(-1, 1)\n",
    "title_length = np.array(title_length).reshape(-1, 1)\n",
    "arxiv_order = np.array(arxiv_order).reshape(-1, 1)\n",
    "scirate_rank = np.array(scirate_rank).reshape(-1, 1)\n",
    "\n",
    "data = np.concatenate([\n",
    "    title,\n",
    "    authors,\n",
    "    num_authors,\n",
    "    title_length,\n",
    "    arxiv_order,\n",
    "    scirate_rank\n",
    "], axis=1)\n",
    "\n",
    "df = pd.DataFrame(data=data, columns=columns, index=index)"
   ]
  },
  {
   "cell_type": "code",
   "execution_count": 85,
   "metadata": {},
   "outputs": [
    {
     "data": {
      "text/html": [
       "<div>\n",
       "<style>\n",
       "    .dataframe thead tr:only-child th {\n",
       "        text-align: right;\n",
       "    }\n",
       "\n",
       "    .dataframe thead th {\n",
       "        text-align: left;\n",
       "    }\n",
       "\n",
       "    .dataframe tbody tr th {\n",
       "        vertical-align: top;\n",
       "    }\n",
       "</style>\n",
       "<table border=\"1\" class=\"dataframe\">\n",
       "  <thead>\n",
       "    <tr style=\"text-align: right;\">\n",
       "      <th></th>\n",
       "      <th>title</th>\n",
       "      <th>authors</th>\n",
       "      <th>num_authors</th>\n",
       "      <th>title_length</th>\n",
       "      <th>arxiv_order</th>\n",
       "      <th>scirate_rank</th>\n",
       "    </tr>\n",
       "  </thead>\n",
       "  <tbody>\n",
       "    <tr>\n",
       "      <th>day_2018_03_01_0000</th>\n",
       "      <td>Blockchain platform with proof-of-work based o...</td>\n",
       "      <td>[Kirill P. Kalinin, Natalia G. Berloff]</td>\n",
       "      <td>2</td>\n",
       "      <td>78</td>\n",
       "      <td>0</td>\n",
       "      <td>6</td>\n",
       "    </tr>\n",
       "    <tr>\n",
       "      <th>day_2018_03_01_0001</th>\n",
       "      <td>The Higgs Mechanism in Higher-Rank Symmetric $...</td>\n",
       "      <td>[Daniel Bulmash, Maissam Barkeshli]</td>\n",
       "      <td>2</td>\n",
       "      <td>66</td>\n",
       "      <td>1</td>\n",
       "      <td>4</td>\n",
       "    </tr>\n",
       "    <tr>\n",
       "      <th>day_2018_03_01_0002</th>\n",
       "      <td>Qubit Parity Measurement by Parametric Driving...</td>\n",
       "      <td>[Baptiste Royer, Shruti Puri, Alexandre Blais]</td>\n",
       "      <td>3</td>\n",
       "      <td>61</td>\n",
       "      <td>2</td>\n",
       "      <td>3</td>\n",
       "    </tr>\n",
       "    <tr>\n",
       "      <th>day_2018_03_01_0003</th>\n",
       "      <td>Hidden Variables and the Two Theorems of John ...</td>\n",
       "      <td>[N. David Mermin]</td>\n",
       "      <td>1</td>\n",
       "      <td>50</td>\n",
       "      <td>3</td>\n",
       "      <td>1</td>\n",
       "    </tr>\n",
       "    <tr>\n",
       "      <th>day_2018_03_01_0004</th>\n",
       "      <td>A Short Path Quantum Algorithm for Exact Optim...</td>\n",
       "      <td>[M. B. Hastings]</td>\n",
       "      <td>1</td>\n",
       "      <td>53</td>\n",
       "      <td>4</td>\n",
       "      <td>0</td>\n",
       "    </tr>\n",
       "  </tbody>\n",
       "</table>\n",
       "</div>"
      ],
      "text/plain": [
       "                                                                 title  \\\n",
       "day_2018_03_01_0000  Blockchain platform with proof-of-work based o...   \n",
       "day_2018_03_01_0001  The Higgs Mechanism in Higher-Rank Symmetric $...   \n",
       "day_2018_03_01_0002  Qubit Parity Measurement by Parametric Driving...   \n",
       "day_2018_03_01_0003  Hidden Variables and the Two Theorems of John ...   \n",
       "day_2018_03_01_0004  A Short Path Quantum Algorithm for Exact Optim...   \n",
       "\n",
       "                                                            authors  \\\n",
       "day_2018_03_01_0000         [Kirill P. Kalinin, Natalia G. Berloff]   \n",
       "day_2018_03_01_0001             [Daniel Bulmash, Maissam Barkeshli]   \n",
       "day_2018_03_01_0002  [Baptiste Royer, Shruti Puri, Alexandre Blais]   \n",
       "day_2018_03_01_0003                               [N. David Mermin]   \n",
       "day_2018_03_01_0004                                [M. B. Hastings]   \n",
       "\n",
       "                    num_authors title_length arxiv_order scirate_rank  \n",
       "day_2018_03_01_0000           2           78           0            6  \n",
       "day_2018_03_01_0001           2           66           1            4  \n",
       "day_2018_03_01_0002           3           61           2            3  \n",
       "day_2018_03_01_0003           1           50           3            1  \n",
       "day_2018_03_01_0004           1           53           4            0  "
      ]
     },
     "execution_count": 85,
     "metadata": {},
     "output_type": "execute_result"
    }
   ],
   "source": [
    "df.head()"
   ]
  },
  {
   "cell_type": "code",
   "execution_count": 84,
   "metadata": {},
   "outputs": [
    {
     "data": {
      "text/html": [
       "<div>\n",
       "<style>\n",
       "    .dataframe thead tr:only-child th {\n",
       "        text-align: right;\n",
       "    }\n",
       "\n",
       "    .dataframe thead th {\n",
       "        text-align: left;\n",
       "    }\n",
       "\n",
       "    .dataframe tbody tr th {\n",
       "        vertical-align: top;\n",
       "    }\n",
       "</style>\n",
       "<table border=\"1\" class=\"dataframe\">\n",
       "  <thead>\n",
       "    <tr style=\"text-align: right;\">\n",
       "      <th></th>\n",
       "      <th>arxiv_order</th>\n",
       "      <th>scirate_rank</th>\n",
       "    </tr>\n",
       "  </thead>\n",
       "  <tbody>\n",
       "    <tr>\n",
       "      <th>arxiv_order</th>\n",
       "      <td>1.000000</td>\n",
       "      <td>-0.010355</td>\n",
       "    </tr>\n",
       "    <tr>\n",
       "      <th>scirate_rank</th>\n",
       "      <td>-0.010355</td>\n",
       "      <td>1.000000</td>\n",
       "    </tr>\n",
       "  </tbody>\n",
       "</table>\n",
       "</div>"
      ],
      "text/plain": [
       "              arxiv_order  scirate_rank\n",
       "arxiv_order      1.000000     -0.010355\n",
       "scirate_rank    -0.010355      1.000000"
      ]
     },
     "execution_count": 84,
     "metadata": {},
     "output_type": "execute_result"
    }
   ],
   "source": [
    "# of course, there is no simple correlation between raw Arxiv order and Scirate rank\n",
    "df[['arxiv_order', 'scirate_rank']].astype(float).corr()"
   ]
  },
  {
   "cell_type": "code",
   "execution_count": null,
   "metadata": {},
   "outputs": [],
   "source": []
  }
 ],
 "metadata": {
  "kernelspec": {
   "display_name": "Python 3",
   "language": "python",
   "name": "python3"
  },
  "language_info": {
   "codemirror_mode": {
    "name": "ipython",
    "version": 3
   },
   "file_extension": ".py",
   "mimetype": "text/x-python",
   "name": "python",
   "nbconvert_exporter": "python",
   "pygments_lexer": "ipython3",
   "version": "3.6.1"
  }
 },
 "nbformat": 4,
 "nbformat_minor": 2
}
