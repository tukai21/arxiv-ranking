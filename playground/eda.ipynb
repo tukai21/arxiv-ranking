{
 "cells": [
  {
   "cell_type": "code",
   "execution_count": 22,
   "metadata": {},
   "outputs": [],
   "source": [
    "%load_ext autoreload\n",
    "%autoreload 2\n",
    "\n",
    "import sys\n",
    "sys.path.append('..')\n",
    "\n",
    "import numpy as np\n",
    "import pandas as pd\n",
    "\n",
    "from parsers.arxiv import scrape_arxiv\n",
    "from parsers.scirate import scrape_scirate"
   ]
  },
  {
   "cell_type": "markdown",
   "metadata": {},
   "source": [
    "## Data Acquisition"
   ]
  },
  {
   "cell_type": "code",
   "execution_count": 12,
   "metadata": {},
   "outputs": [],
   "source": [
    "# parameters for crawling: search span, archive type, and method (with or without abstract)\n",
    "params = {'start': {'year': 2018, 'month': 3, 'day': 1},\n",
    "          'end': {'year': 2018, 'month': 4, 'day': 1},\n",
    "          'archive': 'quant-ph',\n",
    "          'method': 'without'\n",
    "          }"
   ]
  },
  {
   "cell_type": "code",
   "execution_count": 13,
   "metadata": {},
   "outputs": [],
   "source": [
    "# crawl/scrape Arxiv\n",
    "results_arxiv = scrape_arxiv(params)"
   ]
  },
  {
   "cell_type": "code",
   "execution_count": 14,
   "metadata": {},
   "outputs": [],
   "source": [
    "# crawl/scrape Scirate\n",
    "results_scirate = scrape_scirate(params)"
   ]
  },
  {
   "cell_type": "code",
   "execution_count": 17,
   "metadata": {},
   "outputs": [
    {
     "data": {
      "text/plain": [
       "{'authors': ['Kirill P. Kalinin', 'Natalia G. Berloff'],\n",
       " 'order': 0,\n",
       " 'title': 'Blockchain platform with proof-of-work based on analog Hamiltonian  optimisers'}"
      ]
     },
     "execution_count": 17,
     "metadata": {},
     "output_type": "execute_result"
    }
   ],
   "source": [
    "# 2018-03-01 Arxiv top\n",
    "results_arxiv[0]['papers'][0]"
   ]
  },
  {
   "cell_type": "code",
   "execution_count": 18,
   "metadata": {},
   "outputs": [
    {
     "data": {
      "text/plain": [
       "{'authors': ['M. B. Hastings'],\n",
       " 'rank': 0,\n",
       " 'title': 'A Short Path Quantum Algorithm for Exact Optimization'}"
      ]
     },
     "execution_count": 18,
     "metadata": {},
     "output_type": "execute_result"
    }
   ],
   "source": [
    "# 2018-03-01 Scirate top\n",
    "results_scirate[0]['papers'][0]"
   ]
  },
  {
   "cell_type": "code",
   "execution_count": 19,
   "metadata": {},
   "outputs": [
    {
     "data": {
      "text/plain": [
       "{'authors': ['Beni Yoshida', 'Norman Y. Yao'],\n",
       " 'order': 0,\n",
       " 'title': 'Disentangling Scrambling and Decoherence via Quantum Teleportation'}"
      ]
     },
     "execution_count": 19,
     "metadata": {},
     "output_type": "execute_result"
    }
   ],
   "source": [
    "# 2018-03-30 Arxiv top\n",
    "results_arxiv[-1]['papers'][0]"
   ]
  },
  {
   "cell_type": "code",
   "execution_count": 21,
   "metadata": {},
   "outputs": [
    {
     "data": {
      "text/plain": [
       "{'authors': ['Beni Yoshida', 'Norman Y. Yao'],\n",
       " 'rank': 0,\n",
       " 'title': 'Disentangling Scrambling and Decoherence via Quantum Teleportation'}"
      ]
     },
     "execution_count": 21,
     "metadata": {},
     "output_type": "execute_result"
    }
   ],
   "source": [
    "# 2018-03-30 Scirate top\n",
    "results_scirate[-1]['papers'][0]"
   ]
  },
  {
   "cell_type": "markdown",
   "metadata": {},
   "source": [
    "## EDA"
   ]
  },
  {
   "cell_type": "markdown",
   "metadata": {},
   "source": [
    "Entry ID: paper name (DOI?)\n",
    "We can create an arbitrary paper id that corresponds to each paper title, authors, and DOI.\n",
    "\n",
    "Possible features:\n",
    "\n",
    "- Arxiv order\n",
    "- Scirate order\n",
    "- Paper length (pages)\n",
    "- Title length (words)\n",
    "- Number of authors\n",
    "- Total # of citations of the authors (or first author? last author?)\n",
    "- Bag of Words of title\n",
    "- Bag of Words of abstract"
   ]
  },
  {
   "cell_type": "code",
   "execution_count": null,
   "metadata": {},
   "outputs": [],
   "source": []
  },
  {
   "cell_type": "code",
   "execution_count": null,
   "metadata": {},
   "outputs": [],
   "source": []
  }
 ],
 "metadata": {
  "kernelspec": {
   "display_name": "Python 3",
   "language": "python",
   "name": "python3"
  },
  "language_info": {
   "codemirror_mode": {
    "name": "ipython",
    "version": 3
   },
   "file_extension": ".py",
   "mimetype": "text/x-python",
   "name": "python",
   "nbconvert_exporter": "python",
   "pygments_lexer": "ipython3",
   "version": "3.6.1"
  }
 },
 "nbformat": 4,
 "nbformat_minor": 2
}
